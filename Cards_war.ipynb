{
  "nbformat": 4,
  "nbformat_minor": 0,
  "metadata": {
    "colab": {
      "name": "Copy of Kiwi_task.ipynb",
      "provenance": [],
      "collapsed_sections": [],
      "authorship_tag": "ABX9TyM+xGXnMtCyVdPFkiBfL7kS",
      "include_colab_link": true
    },
    "kernelspec": {
      "name": "python3",
      "display_name": "Python 3"
    }
  },
  "cells": [
    {
      "cell_type": "markdown",
      "metadata": {
        "id": "view-in-github",
        "colab_type": "text"
      },
      "source": [
        "<a href=\"https://colab.research.google.com/github/Shegy12/Kiwi--Junior-Python-Engineer-task/blob/master/Cards_war.ipynb\" target=\"_parent\"><img src=\"https://colab.research.google.com/assets/colab-badge.svg\" alt=\"Open In Colab\"/></a>"
      ]
    },
    {
      "cell_type": "code",
      "metadata": {
        "id": "QzS_Aw46xusn",
        "colab_type": "code",
        "colab": {
          "base_uri": "https://localhost:8080/",
          "height": 165
        },
        "outputId": "dfcd2e5e-4e7c-4d76-e6a1-71312c39cd29"
      },
      "source": [
        "A='23A84Q'\n",
        "B='K2Q25J'\n",
        "\n",
        "def replace_letters(cards):\n",
        "  for i in range(len(cards)):\n",
        "    if cards[i]=='T':\n",
        "      cards[i]='10'\n",
        "    if cards[i]=='J':\n",
        "      cards[i]='11'\n",
        "    if cards[i]=='Q':\n",
        "      cards[i]='12'\n",
        "    if cards[i]=='K':\n",
        "      cards[i]='13'\n",
        "    if cards[i]=='A':\n",
        "      cards[i]='14'\n",
        "  return cards\n",
        "\n",
        "# add error message if deck contains irrelevant card (0,1 or another letter)\n",
        "\n",
        "def solution(A, B):\n",
        "    # Cards War game\n",
        "    score=0\n",
        "    if int(len(A))!= int(len(B)):\n",
        "      print('The players must have the same number of cards in their decks!')\n",
        "    else:\n",
        "      A=list(A)\n",
        "      A=replace_letters(A)\n",
        "      B=list(B)\n",
        "      B=replace_letters(B)\n",
        "      print(A)\n",
        "      print(B)\n",
        "      for i in range(len(A)):\n",
        "        if int(A[i]) > int(B[i]):\n",
        "          score+=1\n",
        "          print('Alec won because {}>{}'.format(A[i],B[i]))\n",
        "    print('Alec scored {} points'.format(score)) \n",
        "    return score\n",
        "\n",
        "solution(A, B)\n"
      ],
      "execution_count": 211,
      "outputs": [
        {
          "output_type": "stream",
          "text": [
            "['2', '3', '14', '8', '4', '12']\n",
            "['13', '2', '12', '2', '5', '11']\n",
            "Alec won because 3>2 .\n",
            "Alec won because 14>12 .\n",
            "Alec won because 8>2 .\n",
            "Alec won because 12>11 .\n",
            "Alec scored 4 points\n"
          ],
          "name": "stdout"
        },
        {
          "output_type": "execute_result",
          "data": {
            "text/plain": [
              "4"
            ]
          },
          "metadata": {
            "tags": []
          },
          "execution_count": 211
        }
      ]
    }
  ]
}